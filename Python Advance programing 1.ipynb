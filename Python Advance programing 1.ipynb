{
 "cells": [
  {
   "cell_type": "code",
   "execution_count": 1,
   "metadata": {},
   "outputs": [
    {
     "name": "stdout",
     "output_type": "stream",
     "text": [
      "2\n",
      "0\n"
     ]
    }
   ],
   "source": [
    "import pandas as pd\n",
    "import numpy as np\n",
    "\n",
    "def check_score(a):\n",
    "    add=0\n",
    "    for i in a:\n",
    "        for j in i:\n",
    "            if j=='#':\n",
    "                add+=5\n",
    "            elif j=='O':\n",
    "                add+=3\n",
    "            elif j=='X':\n",
    "                add+=1\n",
    "            elif j=='!':\n",
    "                add-=1\n",
    "            elif j=='!!':\n",
    "                add-=3\n",
    "            elif j=='!!!':\n",
    "                add-=5\n",
    "            else:\n",
    "                \n",
    "                add='Invalid symbol/ plz check and re-enter'\n",
    "                pass\n",
    "    if add>0:\n",
    "        print(add)\n",
    "    else:\n",
    "        print('0')\n",
    "    \n",
    "    \n",
    "check_score([\n",
    "  [\"#\", \"!\"],\n",
    "  [\"!!\", \"X\"]\n",
    "])\n",
    "\n",
    "check_score([\n",
    "  [\"!!!\", \"O\", \"!\"],\n",
    "  [\"X\", \"#\", \"!!!\"],\n",
    "  [\"!!\", \"X\", \"O\"]\n",
    "])\n"
   ]
  },
  {
   "cell_type": "code",
   "execution_count": 2,
   "metadata": {},
   "outputs": [
    {
     "name": "stdout",
     "output_type": "stream",
     "text": [
      "6\n",
      "84\n",
      "120\n",
      "Total number of items are Zero. Plz check\n"
     ]
    }
   ],
   "source": [
    "def combinations(*arg):\n",
    "    a=1\n",
    "    lng=0\n",
    "    count=0\n",
    "    for i in arg:\n",
    "        lng+=1\n",
    "        if i>0:\n",
    "            a=i*a\n",
    "        else:\n",
    "            count+=1\n",
    "    if count==lng:\n",
    "        print(\"Total number of items are Zero. Plz check\")\n",
    "    else:\n",
    "        print(a)\n",
    "        \n",
    "        \n",
    "combinations(2, 3)\n",
    "combinations(3, 7, 4)\n",
    "combinations(2, 3, 4, 5)\n",
    "\n",
    "combinations(0, 0, 0)"
   ]
  },
  {
   "cell_type": "code",
   "execution_count": 3,
   "metadata": {},
   "outputs": [
    {
     "name": "stdout",
     "output_type": "stream",
     "text": [
      ".... . .-.. .--.   -- .   -.-.-- \n",
      ". -.. .- -... -... .. -   -.-. .... .- .-.. .-.. . -. --. . "
     ]
    }
   ],
   "source": [
    "def encode_morse(x):\n",
    "    char_to_dots = {\n",
    "        'A': '.-', 'B': '-...', 'C': '-.-.', 'D': '-..', 'E': '.', 'F': '..-.',\n",
    "        'G': '--.', 'H': '....', 'I': '..', 'J': '.---', 'K': '-.-', 'L': '.-..',\n",
    "        'M': '--', 'N': '-.', 'O': '---', 'P': '.--.', 'Q': '--.-', 'R': '.-.',\n",
    "        'S': '...', 'T': '-', 'U': '..-', 'V': '...-', 'W': '.--', 'X': '-..-',\n",
    "        'Y': '-.--', 'Z': '--..', ' ': ' ', '0': '-----',\n",
    "        '1': '.----', '2': '..---', '3': '...--', '4': '....-', '5': '.....',\n",
    "        '6': '-....', '7': '--...', '8': '---..', '9': '----.',\n",
    "        '&': '.-...', \"'\": '.----.', '@': '.--.-.', ')': '-.--.-', '(': '-.--.',\n",
    "        ':': '---...', ',': '--..--', '=': '-...-', '!': '-.-.--', '.': '.-.-.-',\n",
    "        '-': '-....-', '+': '.-.-.', '\"': '.-..-.', '?': '..--..', '/': '-..-.'}\n",
    "    code=str()\n",
    "    for i in x:\n",
    "        print(char_to_dots[i],end=' ')\n",
    "encode_morse(\"HELP ME !\")\n",
    "print()\n",
    "encode_morse(\"EDABBIT CHALLENGE\") "
   ]
  },
  {
   "cell_type": "code",
   "execution_count": null,
   "metadata": {},
   "outputs": [],
   "source": [
    "\n",
    "                "
   ]
  },
  {
   "cell_type": "code",
   "execution_count": 4,
   "metadata": {},
   "outputs": [],
   "source": [
    "import math\n",
    "\n",
    "def prime(n):\n",
    "    if n==1:\n",
    "        return False\n",
    "    elif n==2:\n",
    "        return True\n",
    "    else:\n",
    "        while n%2==0:\n",
    "            n = n/2;\n",
    "            return False\n",
    "        for i in range(3,int(math.sqrt(n))+1):\n",
    "            if n%i==0:\n",
    "                return False\n",
    "        return True\n",
    "                "
   ]
  },
  {
   "cell_type": "code",
   "execution_count": 5,
   "metadata": {},
   "outputs": [
    {
     "data": {
      "text/plain": [
       "False"
      ]
     },
     "execution_count": 5,
     "metadata": {},
     "output_type": "execute_result"
    }
   ],
   "source": [
    "prime(5151512515524) "
   ]
  },
  {
   "cell_type": "code",
   "execution_count": 57,
   "metadata": {},
   "outputs": [
    {
     "name": "stdout",
     "output_type": "stream",
     "text": [
      "[False, True, True, False]\n",
      "[False, True, False, True, True]\n",
      "[False, True, True, False]\n"
     ]
    }
   ],
   "source": [
    "def to_boolean_list(x):\n",
    "    lst=list()\n",
    "    for i in x:\n",
    "        if alphatoposition(i)==1:\n",
    "            lst.append(True)\n",
    "        else:\n",
    "            lst.append(False)\n",
    "    print(lst)\n",
    "   \n",
    "def alphatoposition(x):\n",
    "    alpha='a' \n",
    "    dictalpha={'a':1}\n",
    "    \n",
    "    for i in range(2,27):\n",
    "        if i%2==0:\n",
    "            dictalpha[chr(ord(alpha)+1)]=0\n",
    "            alpha=chr(ord(alpha)+1)\n",
    "        else:\n",
    "            dictalpha[chr(ord(alpha)+1)]=1\n",
    "            alpha=chr(ord(alpha)+1)\n",
    "    return dictalpha[x]\n",
    "to_boolean_list(\"deep\")\n",
    "to_boolean_list(\"loves\")\n",
    "to_boolean_list(\"tesh\")"
   ]
  },
  {
   "cell_type": "code",
   "execution_count": null,
   "metadata": {},
   "outputs": [],
   "source": []
  }
 ],
 "metadata": {
  "kernelspec": {
   "display_name": "Python 3",
   "language": "python",
   "name": "python3"
  },
  "language_info": {
   "codemirror_mode": {
    "name": "ipython",
    "version": 3
   },
   "file_extension": ".py",
   "mimetype": "text/x-python",
   "name": "python",
   "nbconvert_exporter": "python",
   "pygments_lexer": "ipython3",
   "version": "3.7.3"
  }
 },
 "nbformat": 4,
 "nbformat_minor": 2
}
